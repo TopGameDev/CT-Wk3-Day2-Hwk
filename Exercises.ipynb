{
 "cells": [
  {
   "cell_type": "markdown",
   "metadata": {},
   "source": [
    "#### Exercise 1 - Class Inheritance"
   ]
  },
  {
   "cell_type": "markdown",
   "metadata": {},
   "source": [
    "Create an Employee class that sets an employee's first name, last name, job title, salary, and email. The Employee class should have a class attribute for the raise amount set to 5% (1.05). Create a method that will apply the raise to an employee's salary."
   ]
  },
  {
   "cell_type": "code",
   "execution_count": 1,
   "metadata": {},
   "outputs": [],
   "source": [
    "class Employee:\n",
    "    raise_amount = 1.05\n",
    "    \n",
    "    def __init__(self, first, last, job_title, salary, email):\n",
    "        self.first = first\n",
    "        self.last = last\n",
    "        self.job_title = job_title\n",
    "        self.salary = salary\n",
    "        self.email = email\n",
    "        print(f\"Employee: {first} {last} | Job Title: {job_title} | Salary: {salary} | Email: {email}\\n\")\n",
    "        \n",
    "    def __str__(self):\n",
    "        return f\"Congratulations {self.first} {self.last} you have earned a 5% raise. Your new salary is {int(self.salary)}\"\n",
    "    \n",
    "    def apply_raise(self):\n",
    "        self.salary *= self.raise_amount\n",
    "\n",
    "        \n",
    "class Sales(Employee):\n",
    "    def __init__(self, first, last, job_title, salary, email, phone_number):\n",
    "        self.phone_number = phone_number\n",
    "        super().__init__(first, last, job_title, salary, email)\n",
    "        \n",
    "    def follow_up_email(self, customer_name):\n",
    "        print(f\"\"\"\n",
    "        Dear {customer_name},\\n\n",
    "        Thank you for your interest in our product. Please let me know if you have any questions.\n",
    "        My email is {self.email} or my phone number is {self.phone_number}.\\n\n",
    "        Thanks, {self.first} {self.last}\n",
    "        \n",
    "        \"\"\")  \n",
    "    \n",
    "class Development(Employee):\n",
    "    def __init__(self, first, last, job_title, salary, email):\n",
    "        super().__init__(first, last, job_title, salary, email)\n",
    "    \n",
    "    def code(self):\n",
    "        print(f\"{self.first} {self.last} is writing code.\\n\")"
   ]
  },
  {
   "cell_type": "markdown",
   "metadata": {},
   "source": [
    "Create two more classes that inherit from the Employee class. One for Sales and one for Development. Both of these classes will have the same attributes as the Employee.<br>\n",
    "- For the Sales employees, add a phone number attribute on instantiation using the super method. \n",
    "- Create a method on the Sales class that will Send a Follow Up Email. It should take in a customer name and \"send\" aka print a formatted email \"Dear *customer*, Thank you for your interest in our product. Please let me know if you have any questions. My email is *email* or my phone number is *phone number*. Thanks, *full name*\"\n",
    "- Create a method on the Development class called code that will print out \"*full name* is writing code\"."
   ]
  },
  {
   "cell_type": "code",
   "execution_count": 2,
   "metadata": {},
   "outputs": [
    {
     "name": "stdout",
     "output_type": "stream",
     "text": [
      "Employee: Trevon Woods | Job Title: Sales | Salary: 50000 | Email: trevon_woods@godaddy.com\n",
      "\n",
      "\n",
      "        Dear Mike O'Neil,\n",
      "\n",
      "        Thank you for your interest in our product. Please let me know if you have any questions.\n",
      "        My email is trevon_woods@godaddy.com or my phone number is 555-555-5555.\n",
      "\n",
      "        Thanks, Trevon Woods\n",
      "        \n",
      "        \n",
      "\n",
      "        Dear Hannah Stern,\n",
      "\n",
      "        Thank you for your interest in our product. Please let me know if you have any questions.\n",
      "        My email is trevon_woods@godaddy.com or my phone number is 555-555-5555.\n",
      "\n",
      "        Thanks, Trevon Woods\n",
      "        \n",
      "        \n",
      "Congratulations Trevon Woods you have earned a 5% raise. Your new salary is 52500\n"
     ]
    }
   ],
   "source": [
    "emp_1 = Sales('Trevon', 'Woods', 'Sales', 50000, 'trevon_woods@godaddy.com' ,'555-555-5555')\n",
    "emp_1.follow_up_email(\"Mike O'Neil\")\n",
    "emp_1.follow_up_email('Hannah Stern')\n",
    "emp_1.apply_raise()\n",
    "print(emp_1)"
   ]
  },
  {
   "cell_type": "markdown",
   "metadata": {},
   "source": [
    "- Create an instance of a Sales Employee with a salary of $50,000.\n",
    "- Send follow up emails to \"Mike O'Neil\" and \"Hannah Stern\"\n",
    "- Give the employee a raise and print the salary"
   ]
  },
  {
   "cell_type": "code",
   "execution_count": 13,
   "metadata": {},
   "outputs": [
    {
     "name": "stdout",
     "output_type": "stream",
     "text": [
      "Employee: Mickey Mouse | Job Title: Dev | Salary: 100000 | Email: mickeymouse@playhouse.com\n",
      "\n",
      "Mickey Mouse is writing code.\n",
      "\n",
      "Congratulations Mickey Mouse you have earned a 5% raise. Your new salary is 105000\n"
     ]
    }
   ],
   "source": [
    "emp_2 = Development('Mickey', 'Mouse', 'Dev', 100000, 'mickeymouse@playhouse.com')\n",
    "emp_2.code()\n",
    "emp_2.apply_raise()\n",
    "print(emp_2)"
   ]
  },
  {
   "cell_type": "markdown",
   "metadata": {},
   "source": [
    "- Create an instance of a Development Employee with a salary of $100,000\n",
    "- Write some code with this employee\n",
    "- Give the employee a raise and print the salary"
   ]
  },
  {
   "cell_type": "code",
   "execution_count": null,
   "metadata": {},
   "outputs": [],
   "source": []
  },
  {
   "cell_type": "markdown",
   "metadata": {},
   "source": [
    "#### Exercise 2 - Importing Modules"
   ]
  },
  {
   "cell_type": "markdown",
   "metadata": {},
   "source": [
    "In VS Code, create a module titled `geometry` and add two functions in there. One that will calculate the area of a circle given a radius. The second will find the hypotenuse of a right angle given the two sides. Import the module or the functions from the module and use it to find the answers to the below questions"
   ]
  },
  {
   "cell_type": "code",
   "execution_count": 2,
   "metadata": {},
   "outputs": [],
   "source": [
    "import Geometry_module"
   ]
  },
  {
   "cell_type": "markdown",
   "metadata": {},
   "source": [
    "What is the area of a circle with a radius of 7cm?"
   ]
  },
  {
   "cell_type": "code",
   "execution_count": 3,
   "metadata": {},
   "outputs": [
    {
     "data": {
      "text/plain": [
       "153.93804002589985"
      ]
     },
     "execution_count": 3,
     "metadata": {},
     "output_type": "execute_result"
    }
   ],
   "source": [
    "Geometry_module.area_of_circle(7)"
   ]
  },
  {
   "cell_type": "markdown",
   "metadata": {},
   "source": [
    "What is the hypotenuse of a right angle with sides of 3in and 4in?"
   ]
  },
  {
   "cell_type": "code",
   "execution_count": 4,
   "metadata": {},
   "outputs": [
    {
     "data": {
      "text/plain": [
       "5.0"
      ]
     },
     "execution_count": 4,
     "metadata": {},
     "output_type": "execute_result"
    }
   ],
   "source": [
    "Geometry_module.hypotenus(3,4)"
   ]
  }
 ],
 "metadata": {
  "kernelspec": {
   "display_name": "Python 3 (ipykernel)",
   "language": "python",
   "name": "python3"
  },
  "language_info": {
   "codemirror_mode": {
    "name": "ipython",
    "version": 3
   },
   "file_extension": ".py",
   "mimetype": "text/x-python",
   "name": "python",
   "nbconvert_exporter": "python",
   "pygments_lexer": "ipython3",
   "version": "3.10.9"
  }
 },
 "nbformat": 4,
 "nbformat_minor": 4
}
